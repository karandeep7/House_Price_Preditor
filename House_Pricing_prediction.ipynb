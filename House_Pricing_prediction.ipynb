{
  "nbformat": 4,
  "nbformat_minor": 0,
  "metadata": {
    "colab": {
      "provenance": [],
      "gpuType": "T4",
      "authorship_tag": "ABX9TyPmc2BNJ+BAXpkmsJQNAZkL",
      "include_colab_link": true
    },
    "kernelspec": {
      "name": "python3",
      "display_name": "Python 3"
    },
    "language_info": {
      "name": "python"
    },
    "accelerator": "GPU"
  },
  "cells": [
    {
      "cell_type": "markdown",
      "metadata": {
        "id": "view-in-github",
        "colab_type": "text"
      },
      "source": [
        "<a href=\"https://colab.research.google.com/github/karandeep7/House_Price_Preditor/blob/main/House_Pricing_prediction.ipynb\" target=\"_parent\"><img src=\"https://colab.research.google.com/assets/colab-badge.svg\" alt=\"Open In Colab\"/></a>"
      ]
    },
    {
      "cell_type": "code",
      "execution_count": 1,
      "metadata": {
        "id": "XFGCMW5dmzJD"
      },
      "outputs": [],
      "source": [
        "import pandas as pd\n",
        "import matplotlib.pyplot as plt\n",
        "import seaborn as sns\n",
        "import os\n",
        "import zipfile"
      ]
    },
    {
      "cell_type": "code",
      "source": [
        "os.makedirs(\"date\", exist_ok=True)\n",
        "\n",
        "# Download the dataset using Kaggle API\n",
        "dataset_name = \"ahmedshahriarsakib/usa-real-estate-dataset\"\n",
        "output_path = \"../data/\"\n",
        "\n",
        "# Construct the Kaggle command\n",
        "download_command = f\"kaggle datasets download -d {dataset_name} -p {output_path}\"\n",
        "\n",
        "# Execute the command\n",
        "os.system(download_command)\n"
      ],
      "metadata": {
        "colab": {
          "base_uri": "https://localhost:8080/"
        },
        "id": "Tf-ziPkenJQj",
        "outputId": "e1f34009-0165-4fb0-f837-deed43f25e2c"
      },
      "execution_count": 2,
      "outputs": [
        {
          "output_type": "execute_result",
          "data": {
            "text/plain": [
              "0"
            ]
          },
          "metadata": {},
          "execution_count": 2
        }
      ]
    },
    {
      "cell_type": "code",
      "source": [
        "zip_path = os.path.join(output_path, f\"{dataset_name.split('/')[-1]}.zip\")\n",
        "if os.path.exists(zip_path):\n",
        "    with zipfile.ZipFile(zip_path, \"r\") as zip_ref:\n",
        "        zip_ref.extractall(output_path)\n",
        "    os.remove(zip_path)  # Remove the ZIP file after extraction\n",
        "\n",
        "print(\"Dataset downloaded and unzipped to 'data/' folder.\")"
      ],
      "metadata": {
        "colab": {
          "base_uri": "https://localhost:8080/"
        },
        "id": "iQ-R4qr7nUAU",
        "outputId": "daddfe70-e637-4615-cc50-6461fce42d8f"
      },
      "execution_count": 3,
      "outputs": [
        {
          "output_type": "stream",
          "name": "stdout",
          "text": [
            "Dataset downloaded and unzipped to 'data/' folder.\n"
          ]
        }
      ]
    },
    {
      "cell_type": "code",
      "source": [
        "#Load the dataset\n",
        "file_path = \"../data/realtor-data.zip.csv\"  # Update with the actual file name\n",
        "df = pd.read_csv(file_path)\n",
        "\n",
        "# Check the data\n",
        "print(\"Dataset Shape:\", df.shape)\n",
        "print(df.head())"
      ],
      "metadata": {
        "colab": {
          "base_uri": "https://localhost:8080/"
        },
        "id": "d8LcSRwpnmxk",
        "outputId": "2c6b54af-ff62-41de-9f15-9fdafd6ae932"
      },
      "execution_count": 4,
      "outputs": [
        {
          "output_type": "stream",
          "name": "stdout",
          "text": [
            "Dataset Shape: (2226382, 12)\n",
            "   brokered_by    status     price  bed  bath  acre_lot     street  \\\n",
            "0     103378.0  for_sale  105000.0  3.0   2.0      0.12  1962661.0   \n",
            "1      52707.0  for_sale   80000.0  4.0   2.0      0.08  1902874.0   \n",
            "2     103379.0  for_sale   67000.0  2.0   1.0      0.15  1404990.0   \n",
            "3      31239.0  for_sale  145000.0  4.0   2.0      0.10  1947675.0   \n",
            "4      34632.0  for_sale   65000.0  6.0   2.0      0.05   331151.0   \n",
            "\n",
            "         city        state  zip_code  house_size prev_sold_date  \n",
            "0    Adjuntas  Puerto Rico     601.0       920.0            NaN  \n",
            "1    Adjuntas  Puerto Rico     601.0      1527.0            NaN  \n",
            "2  Juana Diaz  Puerto Rico     795.0       748.0            NaN  \n",
            "3       Ponce  Puerto Rico     731.0      1800.0            NaN  \n",
            "4    Mayaguez  Puerto Rico     680.0         NaN            NaN  \n"
          ]
        }
      ]
    },
    {
      "cell_type": "code",
      "source": [
        "#missing values\n",
        "print(\"Missing Values:\\n\", df.isnull().sum())"
      ],
      "metadata": {
        "colab": {
          "base_uri": "https://localhost:8080/"
        },
        "id": "-pp5qLx1nuFI",
        "outputId": "546141db-270d-4062-8190-851bf2176a56"
      },
      "execution_count": 5,
      "outputs": [
        {
          "output_type": "stream",
          "name": "stdout",
          "text": [
            "Missing Values:\n",
            " brokered_by         4533\n",
            "status                 0\n",
            "price               1541\n",
            "bed               481317\n",
            "bath              511771\n",
            "acre_lot          325589\n",
            "street             10866\n",
            "city                1407\n",
            "state                  8\n",
            "zip_code             299\n",
            "house_size        568484\n",
            "prev_sold_date    734297\n",
            "dtype: int64\n"
          ]
        }
      ]
    },
    {
      "cell_type": "code",
      "source": [],
      "metadata": {
        "id": "b_QcPSlcn3Co"
      },
      "execution_count": null,
      "outputs": []
    }
  ]
}